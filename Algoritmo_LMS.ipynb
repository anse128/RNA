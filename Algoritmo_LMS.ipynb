{
  "nbformat": 4,
  "nbformat_minor": 0,
  "metadata": {
    "colab": {
      "provenance": [],
      "authorship_tag": "ABX9TyO4aZsFp1iauenoq9tNUPmt",
      "include_colab_link": true
    },
    "kernelspec": {
      "name": "python3",
      "display_name": "Python 3"
    },
    "language_info": {
      "name": "python"
    }
  },
  "cells": [
    {
      "cell_type": "markdown",
      "metadata": {
        "id": "view-in-github",
        "colab_type": "text"
      },
      "source": [
        "<a href=\"https://colab.research.google.com/github/anse128/RNA/blob/main/Algoritmo_LMS.ipynb\" target=\"_parent\"><img src=\"https://colab.research.google.com/assets/colab-badge.svg\" alt=\"Open In Colab\"/></a>"
      ]
    },
    {
      "cell_type": "code",
      "execution_count": null,
      "metadata": {
        "colab": {
          "base_uri": "https://localhost:8080/"
        },
        "id": "4amZ2PNY4rWM",
        "outputId": "5dd75f3b-dd34-4f11-c9ce-6abc31a954f1"
      },
      "outputs": [
        {
          "output_type": "stream",
          "name": "stdout",
          "text": [
            "Drive already mounted at /content/drive; to attempt to forcibly remount, call drive.mount(\"/content/drive\", force_remount=True).\n",
            "         Area  Esqueleto  Excentricidad  Contraste  Correlacion   Energia   \\\n",
            "0    0.432874   0.200151       0.000000   0.201714      0.731900  0.257199   \n",
            "1    0.557096   0.300579       1.000000   0.225551      0.691934  0.247544   \n",
            "2    0.887632   0.450976       0.000000   0.205783      0.907211  0.104082   \n",
            "3    0.656452   0.359743       0.000000   0.147204      0.848253  0.204114   \n",
            "4    0.406779   0.204640       0.929951   0.211618      0.716869  0.271146   \n",
            "..        ...        ...            ...        ...           ...       ...   \n",
            "102  0.099493   0.068466       0.869306   0.091423      0.333508  0.889498   \n",
            "103  0.395919   0.502244       0.864712   0.000000      0.605010  0.998028   \n",
            "104  0.057021   0.087448       0.792953   0.270769      0.806239  0.123609   \n",
            "105  0.140816   0.083933       0.881088   0.305508      0.771270  0.142200   \n",
            "106  0.185878   0.061219       0.800958   0.339322      0.808426  0.082018   \n",
            "\n",
            "     Homogeneidad  PuntosExtremo  Intersecciones   Unnamed: 9        Genero  \\\n",
            "0        0.768087       0.047059         0.047059         NaN  Artiodactyla   \n",
            "1        0.740691       0.098039         0.098039         NaN  Artiodactyla   \n",
            "2        0.763409       0.137255         0.137255         NaN  Artiodactyla   \n",
            "3        0.830763       0.101961         0.101961         NaN  Artiodactyla   \n",
            "4        0.756700       0.047059         0.047059         NaN  Artiodactyla   \n",
            "..            ...            ...              ...         ...           ...   \n",
            "102      0.895308       0.023529         0.023529         NaN      Rodentia   \n",
            "103      1.000000       0.407843         0.407843         NaN      Rodentia   \n",
            "104      0.688694       0.062745         0.062745         NaN      Rodentia   \n",
            "105      0.648848       0.019608         0.019608         NaN      Rodentia   \n",
            "106      0.610137       0.003922         0.003922         NaN      Rodentia   \n",
            "\n",
            "     Clase Entrega 1  Clase Entrega 2  Clase Entrega 3  \n",
            "0                  1                1                1  \n",
            "1                  1                1                1  \n",
            "2                  1                1                1  \n",
            "3                  1                1                1  \n",
            "4                  1                1                1  \n",
            "..               ...              ...              ...  \n",
            "102                1                3                6  \n",
            "103                1                3                6  \n",
            "104                1                3                6  \n",
            "105                1                3                6  \n",
            "106                1                3                6  \n",
            "\n",
            "[107 rows x 14 columns]\n"
          ]
        }
      ],
      "source": [
        "from google.colab import drive\n",
        "import pandas as pd\n",
        "\n",
        "# Esto montará tu Google Drive en el directorio '/content/drive'\n",
        "drive.mount('/content/drive')\n",
        "\n",
        "# Ahora puedes leer un archivo .xlsx en tu Google Drive\n",
        "# Asegúrate de reemplazar 'ruta/a/tu/archivo.xlsx' con la ruta real a tu archivo\n",
        "df = pd.read_excel('/content/drive/My Drive/Inteligencia computacional/DatosconClases.xlsx')\n",
        "\n",
        "# Ahora 'df' es un DataFrame de pandas que contiene los datos de tu archivo .xlsx\n",
        "print(df)"
      ]
    },
    {
      "cell_type": "code",
      "source": [
        "import numpy as np\n",
        "\n",
        "# Función de activación (función escalón)\n",
        "def activation_function(x):\n",
        "    return np.where(x < 0, 0, 1)\n",
        "\n",
        "# Algoritmo LMS\n",
        "def lms_algorithm(inputs, targets, num_epochs, learning_rate):\n",
        "    # Inicializar los pesos con valores aleatorios\n",
        "    weights = np.random.rand(inputs.shape[1])\n",
        "\n",
        "    for _ in range(num_epochs):\n",
        "        for i in range(len(inputs)):\n",
        "            # Calcular la salida de la red\n",
        "            output = np.dot(inputs[i], weights)\n",
        "\n",
        "            # Aplicar la función de activación\n",
        "            activated_output = activation_function(output)\n",
        "\n",
        "            # Calcular el error\n",
        "            error = targets[i] - activated_output\n",
        "\n",
        "            # Actualizar los pesos\n",
        "            weights += learning_rate * error * inputs[i]\n",
        "\n",
        "    return weights\n",
        "\n",
        "# Datos de entrada y salida\n",
        "inputs = df.drop(['Clase Entrega 1', 'Genero'], axis=1).values\n",
        "targets = df['Clase Entrega 1'].values\n",
        "\n",
        "# Asegurarse de que los datos de entrada son numéricos\n",
        "inputs = inputs.astype(np.float32)\n",
        "\n",
        "# Parámetros del algoritmo LMS\n",
        "num_epochs = 100\n",
        "learning_rate = 1\n",
        "\n",
        "# Entrenar la red neuronal\n",
        "weights = lms_algorithm(inputs, targets, num_epochs, learning_rate)\n",
        "\n",
        "print('Pesos aprendidos: ', weights)"
      ],
      "metadata": {
        "colab": {
          "base_uri": "https://localhost:8080/"
        },
        "id": "W81jj4VT4neu",
        "outputId": "1e9cec49-b8de-482f-f302-b725f3053ce6"
      },
      "execution_count": null,
      "outputs": [
        {
          "output_type": "stream",
          "name": "stdout",
          "text": [
            "Pesos aprendidos:  [ 351.67328947  292.76631681 1120.09848998  459.7194491  1122.49940758\n",
            "  705.82951027 1405.53101473  182.87802289  182.47939674           nan\n",
            " 3800.94346213 3800.2509641 ]\n"
          ]
        }
      ]
    },
    {
      "cell_type": "markdown",
      "source": [
        "En este código, el parámetro test_size=0.2 indica que el 20% de los datos se utilizarán para el conjunto de prueba, y el resto (80%) para el conjunto de entrenamiento. Puedes ajustar este parámetro según tus necesidades."
      ],
      "metadata": {
        "id": "qMGipJJH-wI1"
      }
    },
    {
      "cell_type": "code",
      "source": [
        "from sklearn.model_selection import train_test_split\n",
        "\n",
        "# Datos de entrada y salida\n",
        "inputs = df.drop(['Clase Entrega 1', 'Genero'], axis=1).values\n",
        "targets = df['Clase Entrega 1'].values\n",
        "\n",
        "# Asegurarse de que los datos de entrada son numéricos\n",
        "inputs = inputs.astype(np.float32)\n",
        "\n",
        "# Dividir los datos en conjuntos de entrenamiento y prueba\n",
        "inputs_train, inputs_test, targets_train, targets_test = train_test_split(inputs, targets, test_size=0.2)\n",
        "\n",
        "# Parámetros del algoritmo LMS\n",
        "num_epochs = 100\n",
        "learning_rate = 0.01\n",
        "\n",
        "# Entrenar la red neuronal con los datos de entrenamiento\n",
        "weights = lms_algorithm(inputs_train, targets_train, num_epochs, learning_rate)\n",
        "\n",
        "print('Pesos aprendidos: ', weights)\n"
      ],
      "metadata": {
        "colab": {
          "base_uri": "https://localhost:8080/"
        },
        "id": "b8t5wpM99RSX",
        "outputId": "746a0567-6e95-4205-c7fb-b2806b7a91ed"
      },
      "execution_count": null,
      "outputs": [
        {
          "output_type": "stream",
          "name": "stdout",
          "text": [
            "Pesos aprendidos:  [ 3.30415826  3.39515284  9.35731273  5.14450471  9.35490496  6.11360883\n",
            " 12.23692516  2.16715289  2.22887231         nan 32.54245676 32.04666754]\n"
          ]
        }
      ]
    },
    {
      "cell_type": "code",
      "source": [
        "# Función para hacer predicciones\n",
        "def predict(inputs, weights):\n",
        "    output = np.dot(inputs, weights)\n",
        "    activated_output = activation_function(output)\n",
        "    return activated_output\n",
        "\n",
        "# Hacer predicciones en los datos de prueba\n",
        "predictions_test = predict(inputs_test, weights)\n",
        "\n",
        "# Calcular la precisión del modelo en los datos de prueba\n",
        "accuracy_test = np.mean(predictions_test == targets_test)\n",
        "\n",
        "print('Precisión en los datos de prueba: ', accuracy_test)"
      ],
      "metadata": {
        "colab": {
          "base_uri": "https://localhost:8080/"
        },
        "id": "PJY0DuV9-3m8",
        "outputId": "63517dd1-42ee-4cb9-e052-57c6c3e6cf65"
      },
      "execution_count": null,
      "outputs": [
        {
          "output_type": "stream",
          "name": "stdout",
          "text": [
            "Precisión en los datos de prueba:  0.8636363636363636\n"
          ]
        }
      ]
    },
    {
      "cell_type": "code",
      "source": [
        "# Hacer predicciones en los datos de entrenamiento\n",
        "predictions_train = predict(inputs_train, weights)\n",
        "\n",
        "# Calcular el error cometido por la red con los datos de entrenamiento\n",
        "train_error = np.mean(predictions_train != targets_train)\n",
        "print('Error en el conjunto de entrenamiento:', train_error)\n",
        "\n",
        "# Calcular el error cometido por la red con los datos de prueba\n",
        "test_error = np.mean(predictions_test != targets_test)\n",
        "print('Error en el conjunto de prueba:', test_error)\n"
      ],
      "metadata": {
        "colab": {
          "base_uri": "https://localhost:8080/"
        },
        "id": "HlxmSRhD6bd3",
        "outputId": "cde13fc0-0488-4c3e-81af-eaf334feff34"
      },
      "execution_count": null,
      "outputs": [
        {
          "output_type": "stream",
          "name": "stdout",
          "text": [
            "Error en el conjunto de entrenamiento: 0.18823529411764706\n",
            "Error en el conjunto de prueba: 0.13636363636363635\n"
          ]
        }
      ]
    }
  ]
}