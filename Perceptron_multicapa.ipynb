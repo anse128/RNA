{
  "nbformat": 4,
  "nbformat_minor": 0,
  "metadata": {
    "colab": {
      "provenance": [],
      "authorship_tag": "ABX9TyN9dv4lv3tc0DoPZqe5fnZW",
      "include_colab_link": true
    },
    "kernelspec": {
      "name": "python3",
      "display_name": "Python 3"
    },
    "language_info": {
      "name": "python"
    }
  },
  "cells": [
    {
      "cell_type": "markdown",
      "metadata": {
        "id": "view-in-github",
        "colab_type": "text"
      },
      "source": [
        "<a href=\"https://colab.research.google.com/github/anse128/RNA/blob/main/Perceptron_multicapa.ipynb\" target=\"_parent\"><img src=\"https://colab.research.google.com/assets/colab-badge.svg\" alt=\"Open In Colab\"/></a>"
      ]
    },
    {
      "cell_type": "code",
      "execution_count": null,
      "metadata": {
        "colab": {
          "base_uri": "https://localhost:8080/"
        },
        "id": "Kjg48XIUljuA",
        "outputId": "fa32248a-3512-4a24-d117-e7ee94804401"
      },
      "outputs": [
        {
          "output_type": "stream",
          "name": "stdout",
          "text": [
            "Drive already mounted at /content/drive; to attempt to forcibly remount, call drive.mount(\"/content/drive\", force_remount=True).\n"
          ]
        }
      ],
      "source": [
        "from google.colab import drive\n",
        "import pandas as pd\n",
        "\n",
        "# Esto montará tu Google Drive en el directorio '/content/drive'\n",
        "drive.mount('/content/drive')\n",
        "\n",
        "\n",
        "df = pd.read_excel('/content/drive/My Drive/Inteligencia computacional/DatosconClases.xlsx')\n",
        "\n",
        "# 'df' es un DataFrame de pandas que contiene los datos de tu archivo .xlsx"
      ]
    },
    {
      "cell_type": "code",
      "source": [
        "# Importar librerías\n",
        "import numpy as np\n",
        "import pandas as pd\n",
        "import matplotlib.pyplot as plt\n",
        "\n",
        "# Definir la función sigmoide como función de activación\n",
        "def sigmoid(x):\n",
        "  return 1 / (1 + np.exp(-x))\n",
        "\n",
        "# Definir la derivada de la función sigmoide\n",
        "def sigmoid_prime(x):\n",
        "  return sigmoid(x) * (1 - sigmoid(x))\n",
        "\n",
        "# Definir la función softmax como función de activación para la capa de salida\n",
        "def softmax(x):\n",
        "  exp_x = np.exp(x)\n",
        "  return exp_x / np.sum(exp_x, axis=1, keepdims=True)\n",
        "\n",
        "# Definir la función de pérdida como entropía cruzada\n",
        "def cross_entropy(y_true, y_pred):\n",
        "  return -np.sum(y_true * np.log(y_pred), axis=1)\n",
        "\n",
        "# Definir la función para calcular el error cuadrático medio\n",
        "def mse(y_true, y_pred):\n",
        "  return np.mean((y_true - y_pred) ** 2)\n",
        "\n",
        "# Definir la arquitectura de la red\n",
        "n_inputs = 9 # Número de características de entrada\n",
        "n_hidden = 10 # Número de neuronas en la capa oculta\n",
        "n_outputs = 2 # Número de neuronas en la capa de salida (clases)\n",
        "learning_rate = 0.01 # Tasa de aprendizaje\n",
        "epochs = 1000 # Número máximo de iteraciones\n",
        "\n",
        "# Inicializar los pesos aleatoriamente con distribución normal\n",
        "W1 = np.random.randn(n_inputs, n_hidden) # Pesos entre la capa de entrada y la capa oculta\n",
        "b1 = np.random.randn(n_hidden) # Bias de la capa oculta\n",
        "W2 = np.random.randn(n_hidden, n_outputs) # Pesos entre la capa oculta y la capa de salida\n",
        "b2 = np.random.randn(n_outputs) # Bias de la capa de salida\n",
        "\n",
        "\n",
        "\n",
        "# Separar los datos en características (X) y etiquetas (y)\n",
        "X = df.iloc[:, :9].values # Seleccionar las primeras 9 columnas como características\n",
        "y = df.iloc[:, -3].values # Seleccionar la columna \"Clase Entrega 1\" como etiquetas\n",
        "\n",
        "# Codificar las etiquetas como vectores binarios\n",
        "# La clase 1 se codifica como [1, 0] (aves)\n",
        "# La clase 2 se codifica como [0, 1] (otras especies)\n",
        "y_encoded = np.zeros((len(y), n_outputs))\n",
        "for i in range(len(y)):\n",
        "  if y[i] == 1:\n",
        "    y_encoded[i] = [1, 0]\n",
        "  else:\n",
        "    y_encoded[i] = [0, 1]\n",
        "\n",
        "# Dividir los datos en conjuntos de entrenamiento (80%) y prueba (20%)\n",
        "from sklearn.model_selection import train_test_split\n",
        "X_train, X_test, y_train, y_test = train_test_split(X, y_encoded, test_size=0.2, random_state=42)\n",
        "\n",
        "# Normalizar los datos para que tengan media cero y desviación estándar uno\n",
        "from sklearn.preprocessing import StandardScaler\n",
        "scaler = StandardScaler()\n",
        "X_train = scaler.fit_transform(X_train)\n",
        "X_test = scaler.transform(X_test)\n",
        "\n",
        "# Entrenar la red neuronal con el algoritmo de backpropagation\n",
        "errors = [] # Lista para guardar el error en cada iteración\n",
        "for epoch in range(epochs):\n",
        "  # Propagar los datos de entrada por la red\n",
        "  # Capa de entrada\n",
        "  a0 = X_train\n",
        "  # Capa oculta\n",
        "  z1 = a0.dot(W1) + b1 # Combinación lineal\n",
        "  a1 = sigmoid(z1) # Función de activación\n",
        "  # Capa de salida\n",
        "  z2 = a1.dot(W2) + b2 # Combinación lineal\n",
        "  a2 = softmax(z2) # Función de activación\n",
        "\n",
        "  # Calcular el error cometido por la red\n",
        "  error = mse(y_train, a2)\n",
        "  errors.append(error)\n",
        "\n",
        "  # Ajustar los pesos con la regla del backpropagation\n",
        "  # Capa de salida\n",
        "  delta2 = (y_train - a2) * learning_rate # Gradiente del error respecto a z2\n",
        "  W2 += a1.T.dot(delta2) # Actualización de los pesos\n",
        "  b2 += np.sum(delta2, axis=0) # Actualización del bias\n",
        "  # Capa oculta\n",
        "  delta1 = delta2.dot(W2.T) * sigmoid_prime(z1) # Gradiente del error respecto a z1\n",
        "  W1 += a0.T.dot(delta1) # Actualización de los pesos\n",
        "  b1 += np.sum(delta1, axis=0) # Actualización del bias\n",
        "\n",
        "# Mostrar la evolución del error durante el entrenamiento\n",
        "plt.plot(errors)\n",
        "plt.xlabel('Iteraciones')\n",
        "plt.ylabel('Error')\n",
        "plt.show()\n",
        "\n",
        "# Evaluar el rendimiento de la red con el conjunto de prueba\n",
        "# Propagar los datos de prueba por la red\n",
        "# Capa de entrada\n",
        "a0_test = X_test\n",
        "# Capa oculta\n",
        "z1_test = a0_test.dot(W1) + b1 # Combinación lineal\n",
        "a1_test = sigmoid(z1_test) # Función de activación\n",
        "# Capa de salida\n",
        "z2_test = a1_test.dot(W2) + b2 # Combinación lineal\n",
        "a2_test = softmax(z2_test) # Función de activación\n",
        "\n",
        "# Calcular el error cometido por la red con los datos de prueba\n",
        "test_error = mse(y_test, a2_test)\n",
        "print('Error en el conjunto de prueba:', test_error)\n",
        "\n",
        "# Calcular la precisión de la red con los datos de prueba\n",
        "y_pred = np.argmax(a2_test, axis=1) # Seleccionar la clase con mayor probabilidad\n",
        "y_true = np.argmax(y_test, axis=1) # Seleccionar la clase verdadera\n",
        "accuracy = np.mean(y_pred == y_true) # Calcular el porcentaje de aciertos\n",
        "print('Precisión en el conjunto de prueba:', accuracy)\n"
      ],
      "metadata": {
        "colab": {
          "base_uri": "https://localhost:8080/",
          "height": 484
        },
        "id": "BD24tmWdnQFi",
        "outputId": "b559b966-0793-4ced-8e18-0c2829eb3285"
      },
      "execution_count": null,
      "outputs": [
        {
          "output_type": "display_data",
          "data": {
            "text/plain": [
              "<Figure size 640x480 with 1 Axes>"
            ],
            "image/png": "[encoded data removed]"
          },
          "metadata": {}
        },
        {
          "output_type": "stream",
          "name": "stdout",
          "text": [
            "Error en el conjunto de prueba: 0.15760867392187283\n",
            "Precisión en el conjunto de prueba: 0.8181818181818182\n"
          ]
        }
      ]
    },
    {
      "cell_type": "code",
      "source": [
        "# Calcular el error cometido por la red con los datos de entrenamiento\n",
        "train_error = mse(y_train, a2)\n",
        "print('Error en el conjunto de entrenamiento:', train_error)\n"
      ],
      "metadata": {
        "colab": {
          "base_uri": "https://localhost:8080/"
        },
        "id": "vNW88bVv0ren",
        "outputId": "218e71c6-88fb-4aa4-835b-4451da26eb2f"
      },
      "execution_count": null,
      "outputs": [
        {
          "output_type": "stream",
          "name": "stdout",
          "text": [
            "Error en el conjunto de entrenamiento: 0.023075856042870723\n"
          ]
        }
      ]
    }
  ]
}