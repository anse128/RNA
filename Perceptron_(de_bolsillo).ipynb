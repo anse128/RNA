{
  "nbformat": 4,
  "nbformat_minor": 0,
  "metadata": {
    "colab": {
      "provenance": [],
      "authorship_tag": "ABX9TyNdnJLRxATgtf2bK1a7KuEb",
      "include_colab_link": true
    },
    "kernelspec": {
      "name": "python3",
      "display_name": "Python 3"
    },
    "language_info": {
      "name": "python"
    }
  },
  "cells": [
    {
      "cell_type": "markdown",
      "metadata": {
        "id": "view-in-github",
        "colab_type": "text"
      },
      "source": [
        "<a href=\"https://colab.research.google.com/github/anse128/RNA/blob/main/Perceptron_(de_bolsillo).ipynb\" target=\"_parent\"><img src=\"https://colab.research.google.com/assets/colab-badge.svg\" alt=\"Open In Colab\"/></a>"
      ]
    },
    {
      "cell_type": "code",
      "execution_count": null,
      "metadata": {
        "colab": {
          "base_uri": "https://localhost:8080/"
        },
        "id": "6k2hqY-qAuHn",
        "outputId": "b3906eba-c76d-4510-8dca-99dd045669d1"
      },
      "outputs": [
        {
          "output_type": "stream",
          "name": "stdout",
          "text": [
            "Drive already mounted at /content/drive; to attempt to forcibly remount, call drive.mount(\"/content/drive\", force_remount=True).\n",
            "         Area  Esqueleto  Excentricidad  Contraste  Correlacion   Energia   \\\n",
            "0    0.432874   0.200151       0.000000   0.201714      0.731900  0.257199   \n",
            "1    0.557096   0.300579       1.000000   0.225551      0.691934  0.247544   \n",
            "2    0.887632   0.450976       0.000000   0.205783      0.907211  0.104082   \n",
            "3    0.656452   0.359743       0.000000   0.147204      0.848253  0.204114   \n",
            "4    0.406779   0.204640       0.929951   0.211618      0.716869  0.271146   \n",
            "..        ...        ...            ...        ...           ...       ...   \n",
            "102  0.099493   0.068466       0.869306   0.091423      0.333508  0.889498   \n",
            "103  0.395919   0.502244       0.864712   0.000000      0.605010  0.998028   \n",
            "104  0.057021   0.087448       0.792953   0.270769      0.806239  0.123609   \n",
            "105  0.140816   0.083933       0.881088   0.305508      0.771270  0.142200   \n",
            "106  0.185878   0.061219       0.800958   0.339322      0.808426  0.082018   \n",
            "\n",
            "     Homogeneidad  PuntosExtremo  Intersecciones   Unnamed: 9        Genero  \\\n",
            "0        0.768087       0.047059         0.047059         NaN  Artiodactyla   \n",
            "1        0.740691       0.098039         0.098039         NaN  Artiodactyla   \n",
            "2        0.763409       0.137255         0.137255         NaN  Artiodactyla   \n",
            "3        0.830763       0.101961         0.101961         NaN  Artiodactyla   \n",
            "4        0.756700       0.047059         0.047059         NaN  Artiodactyla   \n",
            "..            ...            ...              ...         ...           ...   \n",
            "102      0.895308       0.023529         0.023529         NaN      Rodentia   \n",
            "103      1.000000       0.407843         0.407843         NaN      Rodentia   \n",
            "104      0.688694       0.062745         0.062745         NaN      Rodentia   \n",
            "105      0.648848       0.019608         0.019608         NaN      Rodentia   \n",
            "106      0.610137       0.003922         0.003922         NaN      Rodentia   \n",
            "\n",
            "     Clase Entrega 1  Clase Entrega 2  Clase Entrega 3  \n",
            "0                  1                1                1  \n",
            "1                  1                1                1  \n",
            "2                  1                1                1  \n",
            "3                  1                1                1  \n",
            "4                  1                1                1  \n",
            "..               ...              ...              ...  \n",
            "102                1                3                6  \n",
            "103                1                3                6  \n",
            "104                1                3                6  \n",
            "105                1                3                6  \n",
            "106                1                3                6  \n",
            "\n",
            "[107 rows x 14 columns]\n"
          ]
        }
      ],
      "source": [
        "from google.colab import drive\n",
        "import pandas as pd\n",
        "\n",
        "# Esto montará tu Google Drive en el directorio '/content/drive'\n",
        "drive.mount('/content/drive')\n",
        "\n",
        "# Ahora puedes leer un archivo .xlsx en tu Google Drive\n",
        "# Asegúrate de reemplazar 'ruta/a/tu/archivo.xlsx' con la ruta real a tu archivo\n",
        "df = pd.read_excel('/content/drive/My Drive/Inteligencia computacional/DatosconClases.xlsx')\n",
        "\n",
        "# Ahora 'df' es un DataFrame de pandas que contiene los datos de tu archivo .xlsx\n",
        "print(df)\n",
        "\n",
        "# Convertir las clases en -1 y 1\n",
        "df['Clase Entrega 1'] = df['Clase Entrega 1'].apply(lambda x: 1 if x==2 else -1)"
      ]
    },
    {
      "cell_type": "code",
      "source": [
        "from sklearn.model_selection import train_test_split\n",
        "import numpy as np\n",
        "\n",
        "# Función de activación\n",
        "def signo(x):\n",
        "    return np.where(x>=0, 1, -1)\n",
        "\n",
        "# Inicialización de los pesos y el sesgo\n",
        "pesos = np.random.rand(9)\n",
        "sesgo = np.random.rand(1)\n",
        "\n",
        "# Tasa de aprendizaje\n",
        "eta = 0.1\n",
        "\n",
        "# Número de épocas\n",
        "n_epocas = 100\n",
        "\n",
        "\n",
        "# Datos de entrada y salida\n",
        "X = df.iloc[:, :-5].values\n",
        "y = df['Clase Entrega 1'].values\n",
        "\n",
        "\n",
        "\n",
        "# Dividir los datos en conjuntos de entrenamiento y prueba\n",
        "X_train, X_test, y_train, y_test = train_test_split(X, y, test_size=0.2, random_state=42)\n",
        "\n",
        "\n",
        "# Algoritmo del perceptrón para el conjunto de entrenamiento\n",
        "for _ in range(n_epocas):\n",
        "    for i in range(X_train.shape[0]):\n",
        "        salida = signo(np.dot(X_train[i], pesos) + sesgo)\n",
        "        error = y_train[i] - salida\n",
        "        pesos += eta * error * X_train[i]\n",
        "        sesgo += eta * error\n",
        "\n",
        "# Prueba del modelo con el conjunto de prueba\n",
        "y_pred = signo(np.dot(X_test, pesos) + sesgo)\n"
      ],
      "metadata": {
        "id": "MoHOth4KAy50"
      },
      "execution_count": null,
      "outputs": []
    },
    {
      "cell_type": "code",
      "source": [
        "# Función para hacer predicciones\n",
        "def predict(inputs, weights):\n",
        "    output = np.dot(inputs, weights)\n",
        "    activated_output = signo(output)\n",
        "    return activated_output\n",
        "\n",
        "# Hacer predicciones en los datos de prueba\n",
        "predictions_test = predict(X_test, pesos)\n",
        "\n",
        "# Calcular la precisión del modelo en los datos de prueba\n",
        "accuracy_test = np.mean(predictions_test == y_test)\n",
        "\n",
        "print('Precisión en los datos de prueba: ', accuracy_test)"
      ],
      "metadata": {
        "colab": {
          "base_uri": "https://localhost:8080/"
        },
        "id": "OuSXs-wTkZ5B",
        "outputId": "33c73933-36dd-4f20-b5a0-a0b4629bccc8"
      },
      "execution_count": null,
      "outputs": [
        {
          "output_type": "stream",
          "name": "stdout",
          "text": [
            "Precisión en los datos de prueba:  0.22727272727272727\n"
          ]
        }
      ]
    },
    {
      "cell_type": "code",
      "source": [
        "# Definir la función para calcular el error cuadrático medio\n",
        "def mse(y_true, y_pred):\n",
        "  return np.mean((y_true - y_pred) ** 2)\n",
        "\n",
        "# Calcular el error cometido por la red con los datos de entrenamiento\n",
        "train_error = mse(y_train, signo(np.dot(X_train, pesos) + sesgo))\n",
        "print('Error en el conjunto de entrenamiento:', train_error)\n",
        "\n",
        "# Calcular el error cometido por la red con los datos de prueba\n",
        "test_error = mse(y_test, signo(np.dot(X_test, pesos) + sesgo))\n",
        "print('Error en el conjunto de prueba:', test_error)\n"
      ],
      "metadata": {
        "colab": {
          "base_uri": "https://localhost:8080/"
        },
        "id": "Cn23w-SB5V2X",
        "outputId": "78cae459-8c72-49d1-f89a-5c148722e5bd"
      },
      "execution_count": null,
      "outputs": [
        {
          "output_type": "stream",
          "name": "stdout",
          "text": [
            "Error en el conjunto de entrenamiento: 0.7058823529411765\n",
            "Error en el conjunto de prueba: 0.36363636363636365\n"
          ]
        }
      ]
    }
  ]
}